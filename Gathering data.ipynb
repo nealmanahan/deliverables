{
 "cells": [
  {
   "cell_type": "markdown",
   "metadata": {},
   "source": [
    "# Gathering Data\n",
    "This Jupyter notebook describes the process followed to obtain and cleanse the dataset used for the predictive model. \n",
    "This process is comprised of the following steps:\n",
    "\n",
    "- **Step 1**: [Obtain audio clips from Broadcastify](#section_1)\n",
    "- **Step 2**: [Convert all audio clips to 30sec segments with the command line and Audacity](#section_2)\n",
    "- **Step 3**: [Feature extraction using Amazon Web Services](#section_3)\n",
    "- **Step 4**: [Data merge and cleansing](#section_4)"
   ]
  },
  {
   "cell_type": "markdown",
   "metadata": {},
   "source": [
    "## Step 1: Obtain audio clips from Broadcastify <a id=\"section_1\"></a>\n",
    "Given our problem statement we decided to download audio clips of various emergencies and non-emergencies from Broacastify. __[Broadcastify](https://www.broadcastify.com/about/)__ is the radio communications industry's largest platform for streaming live audio for public safety, aircraft, rail, and marine related communications. \n",
    "\n",
    "With a premium subscription Broadcastify allows you to access and download up to 180 days of archived recordings. \n",
    "\n",
    "**Positive class:** \n",
    "\n",
    "Positive classes in our model relate to various types of emergencies, ranging from shootings, to fires, to protests, etc. Broadcastify has an archive section called \"LATEST NOTABLE ARCHIVES\" which includes selcted audio from recent emergency situations. We initially took all of these archives as our starting positive class. Such files accounted for 8 hours and 49 minutes of audio.\n",
    "\n",
    "We later supplemented the positive class with more audio files with audio clips of other emergencies from YouTube, which accounted for 3 hours of audio. \n",
    "\n",
    "**Negative class:**\n",
    "\n",
    "Negative classes in our model relate to two main sources:\n",
    "- Generic police chatter\n",
    "- Incidents (non-emergencies)\n",
    "\n",
    "Generic police chatter was downloaded from Broadcastify. We randomly picked 1 hour long clips of police Broadcast of the same cities as the positive class, listened to them, and filtered the ones that contained no incidents to be part of our negative class. Using this manual process we gathered 15 hours and 20 minutes of audio. \n",
    "\n",
    "Incidents (non-emergencies) were added to the negative class after making certain tests in the models (please refer to modelling noteboook). These audio clips account for 9 hours and 15 minutes of audio and they relate in nature to incidents that are not as severe to requiere a federal response (e.g - car chases, non-national emergency protests, arrests, etc.)."
   ]
  },
  {
   "cell_type": "markdown",
   "metadata": {},
   "source": [
    "**Note** - Given the size of the raw data retrieved we were unable to host all the audio clips on git. If you wish to access these files please reach out to the authors (see readme). "
   ]
  },
  {
   "cell_type": "markdown",
   "metadata": {},
   "source": [
    "In the subsequent lines of code we briefly visualize the main characteristics of our raw data, as described above:"
   ]
  },
  {
   "cell_type": "code",
   "execution_count": 1,
   "metadata": {},
   "outputs": [],
   "source": [
    "#Import libraries\n",
    "\n",
    "import numpy as np\n",
    "import pandas as pd\n",
    "import regex as re\n",
    "import matplotlib.pyplot as plt\n",
    "\n",
    "#inline display command\n",
    "%matplotlib inline\n"
   ]
  },
  {
   "cell_type": "code",
   "execution_count": 2,
   "metadata": {},
   "outputs": [],
   "source": [
    "#Import the dataframe and display the characteristics of the raw data described above\n",
    "df=pd.read_csv('df_master_audioandspeech_clean.csv')\n",
    "df.drop(columns='Unnamed: 0',inplace=True)"
   ]
  },
  {
   "cell_type": "code",
   "execution_count": 3,
   "metadata": {},
   "outputs": [],
   "source": [
    "#Create pivot for bar plotting\n",
    "table = pd.pivot_table(df,\n",
    "                       index='class',\n",
    "                       columns='origin',\n",
    "                       values='emergency_type',\n",
    "                       aggfunc=lambda x: len(x),\n",
    "                       margins=True)\n",
    "\n",
    "# table rename columns\n",
    "table.rename(columns={'new_files':'Youtube',\n",
    "                      'original_files':'Broadcastify'},inplace=True)"
   ]
  },
  {
   "cell_type": "code",
   "execution_count": 4,
   "metadata": {},
   "outputs": [
    {
     "name": "stdout",
     "output_type": "stream",
     "text": [
      "\n",
      "Note: Negative class clips from youtube relate soley to \"Incidents (non-emergencies)\" Negative classes from broadcastify relate soley to generic police chatter.\n"
     ]
    },
    {
     "data": {
      "image/png": "[encoded data removed]",
      "text/plain": [
       "<Figure size 360x360 with 1 Axes>"
      ]
     },
     "metadata": {},
     "output_type": "display_data"
    }
   ],
   "source": [
    "#Plot\n",
    "plt.style.use('seaborn-white')\n",
    "fig , ax = plt.subplots(nrows=1,ncols=1,figsize=(5,5))\n",
    "\n",
    "ax.bar(x=['Youtube','Broadcastify'],\n",
    "            height=[table['Youtube']['positive'],\n",
    "                    table['Broadcastify']['positive']],\n",
    "           color='darkorange',\n",
    "           edgecolor='k',\n",
    "           alpha=0.7)\n",
    "\n",
    "ax.bar(x=['Youtube','Broadcastify'],\n",
    "            height=[table['Youtube']['negative'],\n",
    "                    table['Broadcastify']['negative']],\n",
    "           color='darkblue',\n",
    "           edgecolor='k',\n",
    "           alpha=0.7,\n",
    "           bottom=[table['Youtube']['positive'],\n",
    "                    table['Broadcastify']['positive']])\n",
    "\n",
    "ax.set_title('Clips by Source',weight='bold',pad=10)\n",
    "ax.set_ylabel('Number of 30 sec clips',labelpad=10)\n",
    "\n",
    "ax.legend(['positive','negative'])\n",
    "# plt.savefig(\"clips_by_source.svg\", format=\"svg\")\n",
    "\n",
    "print('\\nNote: Negative class clips from youtube relate soley to \"Incidents (non-emergencies)\"',\n",
    "      'Negative classes from broadcastify relate soley to generic police chatter.');"
   ]
  },
  {
   "cell_type": "code",
   "execution_count": 90,
   "metadata": {},
   "outputs": [
    {
     "data": {
      "text/html": [
       "<div>\n",
       "<style scoped>\n",
       "    .dataframe tbody tr th:only-of-type {\n",
       "        vertical-align: middle;\n",
       "    }\n",
       "\n",
       "    .dataframe tbody tr th {\n",
       "        vertical-align: top;\n",
       "    }\n",
       "\n",
       "    .dataframe thead th {\n",
       "        text-align: right;\n",
       "    }\n",
       "</style>\n",
       "<table border=\"1\" class=\"dataframe\">\n",
       "  <thead>\n",
       "    <tr style=\"text-align: right;\">\n",
       "      <th>origin</th>\n",
       "      <th>Youtube</th>\n",
       "      <th>Broadcastify</th>\n",
       "      <th>All</th>\n",
       "    </tr>\n",
       "    <tr>\n",
       "      <th>class</th>\n",
       "      <th></th>\n",
       "      <th></th>\n",
       "      <th></th>\n",
       "    </tr>\n",
       "  </thead>\n",
       "  <tbody>\n",
       "    <tr>\n",
       "      <th>negative</th>\n",
       "      <td>1110</td>\n",
       "      <td>1840</td>\n",
       "      <td>2950</td>\n",
       "    </tr>\n",
       "    <tr>\n",
       "      <th>positive</th>\n",
       "      <td>360</td>\n",
       "      <td>1058</td>\n",
       "      <td>1418</td>\n",
       "    </tr>\n",
       "    <tr>\n",
       "      <th>All</th>\n",
       "      <td>1470</td>\n",
       "      <td>2898</td>\n",
       "      <td>4368</td>\n",
       "    </tr>\n",
       "  </tbody>\n",
       "</table>\n",
       "</div>"
      ],
      "text/plain": [
       "origin    Youtube  Broadcastify   All\n",
       "class                                \n",
       "negative     1110          1840  2950\n",
       "positive      360          1058  1418\n",
       "All          1470          2898  4368"
      ]
     },
     "execution_count": 90,
     "metadata": {},
     "output_type": "execute_result"
    }
   ],
   "source": [
    "#This table shows the actual #of audioclips\n",
    "table"
   ]
  },
  {
   "cell_type": "code",
   "execution_count": 23,
   "metadata": {},
   "outputs": [],
   "source": [
    "#Create pivot for bar plotting\n",
    "table = pd.pivot_table(df,\n",
    "                       index='emergency_type',\n",
    "                       values='origin',\n",
    "                       aggfunc=lambda x: len(x)).sort_values(by='origin',ascending=True)"
   ]
  },
  {
   "cell_type": "code",
   "execution_count": 28,
   "metadata": {},
   "outputs": [
    {
     "name": "stdout",
     "output_type": "stream",
     "text": [
      "\n",
      "Note: no emergency relates soley to generic police chatter.\n"
     ]
    },
    {
     "data": {
      "image/png": "[encoded data removed]",
      "text/plain": [
       "<Figure size 720x720 with 1 Axes>"
      ]
     },
     "metadata": {},
     "output_type": "display_data"
    }
   ],
   "source": [
    "#Plot\n",
    "plt.style.use('seaborn-white')\n",
    "fig , ax = plt.subplots(nrows=1,ncols=1,figsize=(10,10))\n",
    "\n",
    "ax.barh(y=table.index,\n",
    "        width=table['origin'],\n",
    "        color='darkorange',\n",
    "        edgecolor='k',\n",
    "        alpha=0.7)\n",
    "\n",
    "ax.set_title('Clips by type of emergency',weight='bold',pad=10)\n",
    "ax.set_xlabel('Number of 30 sec clips',labelpad=10,fontsize=12)\n",
    "\n",
    "# ax.legend(['positive','negative'])\n",
    "plt.savefig(\"clips_by_typeofe.svg\", format=\"svg\")\n",
    "\n",
    "print('\\nNote: no emergency relates soley to generic police chatter.');"
   ]
  },
  {
   "cell_type": "markdown",
   "metadata": {},
   "source": [
    "## Step 2: Convert all audio clips to 30sec segments with the command line and Audacity <a id=\"section_2\"></a>"
   ]
  },
  {
   "cell_type": "markdown",
   "metadata": {},
   "source": [
    "As explained above, we took clips from the described datasources and parsed them into 30 second clips in order to build the dataframe for the model. We did this through two main processes:\n",
    "\n",
    "- Audacity\n",
    "- Command line\n",
    "\n",
    "We used the command line method to speed up the data gathering process in an Elastic Cloud (EC2) instance using Amazon Web Services (AWS). Depending on the readers knowledge on the use of AWS he can opt to use either method, the one that suits them best. That is why we describe both of them in this section.\n",
    "\n",
    "**Audacity:** __[Audacity](https://www.audacityteam.org/about/)__ is a free, easy-to-use, multi-track audio editor and recorder for Windows, Mac OS X, GNU/Linux and other operating systems. Using this software we manually splitted the audio from step 1 into 30 second clips. We recommend the reader to watch this youtube video to understand the exact steps to carry out this task.\n",
    "\n",
    "**Command line:** You can easily automate this process with the command line. We used this method to speed up the data gathering process in an Elastic Cloud (EC2) instance using Amazon Web Services (AWS). In the following lines of code we describe the commands to execute on the command line to parse out a specific file into 30 sec clips:\n",
    "\n",
    "- `ffmpeg -1 <filename.ext> -f segment -segment_time 30 -c copy <filename>%03d<.ext>`\n",
    "\n",
    "On the above command `<filename.ext>` represents the file to ba parsed, `30` is the length of the parsed clips, `<filename>%03d<.ext>` is the nem of the output where `%` will add a counter id. This command can be easily automated to loop through all the files on a given folder on an EC2 instance.\n",
    "\n",
    "**Note:** In order to run this command on an EC2 instance the user may need to install `brew install ffmpeg` if the instance does not have such package installed.\n"
   ]
  },
  {
   "cell_type": "markdown",
   "metadata": {},
   "source": [
    "## Feature extraction using Amazon Web Services<a id=\"section_3\"></a>"
   ]
  },
  {
   "cell_type": "markdown",
   "metadata": {},
   "source": [
    "After parsing out all the raw audio files into equally sized 30 second clips, we proceeded to build a dataframe that included extracted audio and speech recognition features for each clip. \n",
    "\n",
    "The lines of code below explore in detail such process. Since this task was computationally and resource intensive for the available laptop equipments the team had, we decided to perform this task on an EC2 instance on AWS. \n",
    "\n",
    "We highly reccomend the reader to run this code (which is also contained on the \"`Dataframe.py`\" script of this repo) on AWS. An author of this project wrote a brief medium post on the matter that the reader might find helpful if he has no experience using AWS. __[This post explores exactly the use case of this project in AWS](https://medium.com/@ro.flores.mendez/running-python-on-aws-for-machine-learning-using-audio-and-speech-recognition-while-you-are-gone-28909f1b462)__."
   ]
  },
  {
   "cell_type": "markdown",
   "metadata": {},
   "source": [
    "- **Audio feature script:** The following code can be executed in order to extract all the audio features from the audio clips using python's library \"`librosa`\". On the Modelling and EDA notebook we extensively explain the nature of such features, in this notebook we only discuss the extraction process."
   ]
  },
  {
   "cell_type": "code",
   "execution_count": null,
   "metadata": {},
   "outputs": [],
   "source": [
    "#We highly recommend running this script in AWS\n",
    "\n",
    "#Import libraries\n",
    "import pandas as pd\n",
    "import numpy as np\n",
    "import re\n",
    "import string\n",
    "import librosa\n",
    "\n",
    "#Extract file list to process \n",
    "files=librosa.util.find_files('/home/ubuntu/new_audios/') #Replace with your directory\n",
    "\n",
    "#Loop through the file list and create a dataframe\n",
    "values=[]\n",
    "for file in files: \n",
    "        # y = audio time series\n",
    "        # sr = sample rate of 'y'\n",
    "        y, sr = librosa.load(file)\n",
    "        \n",
    "        # get the list of mean values extracted from different features\n",
    "        stft = np.abs(librosa.stft(y))\n",
    "        mfcc = np.mean(librosa.feature.mfcc(y=y, sr=sr, n_mfcc=40).T, axis=0)\n",
    "        chroma_stft = np.mean(librosa.feature.chroma_stft(S=stft, sr=sr).T, axis=0)\n",
    "        mel = np.mean(librosa.feature.melspectrogram(y, sr=sr).T, axis=0)\n",
    "        contrast = np.mean(librosa.feature.spectral_contrast(S=stft, sr=sr).T, axis=0)\n",
    "        tonnetz = np.mean(librosa.feature.tonnetz(y=librosa.effects.harmonic(y), sr=sr).T, axis=0)\n",
    "        tempogram = np.mean(librosa.feature.tempogram(y, sr=sr).T, axis=0)\n",
    "        rolloff=np.mean(librosa.feature.spectral_rolloff(y, sr=sr).T, axis=0)\n",
    "        chroma_cqt = np.mean(librosa.feature.chroma_cqt(y=y, sr=sr).T, axis=0)\n",
    "        chroma_cens = np.mean(librosa.feature.chroma_cens(y=y, sr=sr).T, axis=0)\n",
    "        spectral_centroid=np.mean(librosa.feature.spectral_centroid(y=y, sr=sr).T, axis=0)\n",
    "        spectral_band=np.mean(librosa.feature.spectral_bandwidth(y=y, sr=sr).T, axis=0)\n",
    "        spectral_flat=np.mean(librosa.feature.spectral_flatness(y=y).T, axis=0)\n",
    "        spectral_contrast=np.mean(librosa.feature.spectral_contrast(y=y, sr=sr).T, axis=0)\n",
    "        \n",
    "    \n",
    "        # append to the list\n",
    "        values.append([file,mfcc,chroma_stft,mel,contrast,tonnetz,tempogram,rolloff,chroma_cqt,chroma_cens,spectral_centroid,spectral_band,spectral_flat,spectral_contrast])\n",
    "\n",
    "    # Create a DataFrame out of the list\n",
    "        df = pd.DataFrame(values, columns=(['file_name','mfcc', 'chroma_stft','mel','contrast','tonnetz','tempogram','rolloff','chroma_cqt','chroma_cens','spectral_centroid','spectral_band','spectral_flat','spectral_contrast']))\n",
    "        df.to_csv('df_audio_compressed.csv')\n",
    "\n",
    "cols = df.columns[1:]\n",
    "for col in cols:\n",
    "    length = pd.DataFrame(df[col].tolist()).shape[1]\n",
    "    col_seq = []\n",
    "    for i in range(1, length+1):\n",
    "        col_seq.append(f'{col}_{i}')\n",
    "    dfs = [df, pd.DataFrame(df[col].tolist(), columns=col_seq)]\n",
    "    df = pd.concat(dfs, axis=1).drop(col, axis=1)\n",
    "\n",
    "    df.to_csv('df_audio.csv')\n"
   ]
  },
  {
   "cell_type": "markdown",
   "metadata": {},
   "source": [
    "- **Speech recognition script**: The following code can be executed in order to extract a speech recognition feature from the audio clips using python's library \"`speech_recognition`\". The python script we ran on AWS can be found on this repository under the name `Speech_recognition.py`. "
   ]
  },
  {
   "cell_type": "code",
   "execution_count": null,
   "metadata": {},
   "outputs": [],
   "source": [
    "#We highly recommend running this script in AWS\n",
    "import numpy as np\n",
    "import pandas as pd\n",
    "import librosa\n",
    "import speech_recognition as sr\n",
    "\n",
    "files=librosa.util.find_files('/home/ubuntu/new_audios/') #Replace with your directory\n",
    "\n",
    "r = sr.Recognizer()\n",
    "values=[]\n",
    "\n",
    "for file in files:\n",
    "    try:\n",
    "        hellow=sr.AudioFile(file)\n",
    "        with hellow as source:\n",
    "            try:\n",
    "                audio = r.record(source)\n",
    "                s = r.recognize_google(audio)\n",
    "                values.append([file,'Good',s])\n",
    "            except:\n",
    "                values.append([file,'Exception',''])\n",
    "    except:\n",
    "        values.append([files,'Exception',''])\n",
    "\n",
    "    df = pd.DataFrame(values, columns=(['file_name','good_exception','audio_recognition']))\n",
    "    df.to_csv('df_speech_recognition.csv')\n"
   ]
  },
  {
   "cell_type": "markdown",
   "metadata": {},
   "source": [
    "After running this code the reader should have 3 csv files."
   ]
  },
  {
   "cell_type": "markdown",
   "metadata": {},
   "source": [
    "## Step 4: Data merge and cleansing <a id=\"section_4\"></a>"
   ]
  },
  {
   "cell_type": "markdown",
   "metadata": {},
   "source": [
    "In the following lines of code we merge 2 of the dataframes created above to create one master dataframe that includes all the audio features and the speech recognition features. This is the dataframe that is used as in input for the modelling notebook."
   ]
  },
  {
   "cell_type": "code",
   "execution_count": null,
   "metadata": {},
   "outputs": [],
   "source": [
    "#Define functions to clean the filename and extract from it the type of emergency\n",
    "def clean(x):\n",
    "    return re.findall('[A-Za-z]+',str(re.findall(r'positive_.+\\_',x)))[1]\n",
    "\n",
    "def clean_neg(x):\n",
    "    return re.findall('[A-Za-z]+',str(re.findall(r'negative_.+\\_',x)).replace('negative_','').replace('_',''))[0]\n"
   ]
  },
  {
   "cell_type": "code",
   "execution_count": null,
   "metadata": {},
   "outputs": [],
   "source": [
    "#Read the audio CSV\n",
    "df=pd.read_csv('df_audio.csv')\n",
    "df.drop(columns=['Unnamed: 0'],inplace=True)\n",
    "\n",
    "#Create a class feature\n",
    "df['class']=df['file_name'].apply(lambda x: 'positive' if 'positive' in x else 'negative' if 'negative' in x else 'error')\n",
    "\n",
    "#Separate positive from negative class for cleansing\n",
    "mask=df['class']=='positive'\n",
    "df_pos=df[mask]\n",
    "df_neg=df[~mask]\n",
    "\n",
    "#Create an emergency type feature\n",
    "df_pos['emergency_type']=df2_pos['file_name'].apply(lambda x: clean(x))\n",
    "df_neg['emergency_type']=df2_neg['file_name'].apply(lambda x: clean_neg(x))\n",
    "\n",
    "#Cleanse the emergency type feature\n",
    "#positive class\n",
    "dic={\n",
    "    'terrorist':'terrorist_attack',\n",
    "    'vegas':'shooting',\n",
    "    'navy':'shooting',\n",
    "    'pedestrianincident':'pedestrian_incident',\n",
    "    'columbia':'shooting',\n",
    "    'fire':'fire',\n",
    "    'coloradosprings':'shooting',\n",
    "    'arapahoe':'shooting',\n",
    "    'explosion':'explosion',\n",
    "    'baton':'shooting',\n",
    "    'umpqua':'shooting',\n",
    "    'airplanecrash':'plane_crash',\n",
    "    'dallas':'shooting',\n",
    "    'synagogue':'shooting'\n",
    "}\n",
    "df_pos['emergency_type']=df_pos['emergency_type'].replace(dic)\n",
    "\n",
    "#negative class\n",
    "dic={\n",
    "    'protestssuperbowl':'protestsuperbowl',\n",
    "    'G':'G20Pittsburgprotest'\n",
    "}\n",
    "df_neg['emergency_type']=df2_neg['emergency_type'].replace(dic)\n",
    "\n",
    "#Combine both dataframes\n",
    "df=pd.concat([df_pos,df_neg])\n",
    "\n",
    "#Read the speech recognition dataframe\n",
    "df_speech=pd.read_csv('df_speech_recognition.csv')\n",
    "df_speech.drop(columns='Unnamed: 0',inplace=True)\n",
    "\n",
    "#Create a master dataframe that is a merge from the speech recognition df to audio df\n",
    "master=df.merge(df_speech,on='file_name',how='left')\n",
    "\n",
    "#Save master df as a CSV\n",
    "master.to_csv('df_master_audioandspeech_clean.csv')"
   ]
  }
 ],
 "metadata": {
  "kernelspec": {
   "display_name": "Python 3",
   "language": "python",
   "name": "python3"
  },
  "language_info": {
   "codemirror_mode": {
    "name": "ipython",
    "version": 3
   },
   "file_extension": ".py",
   "mimetype": "text/x-python",
   "name": "python",
   "nbconvert_exporter": "python",
   "pygments_lexer": "ipython3",
   "version": "3.7.1"
  }
 },
 "nbformat": 4,
 "nbformat_minor": 2
}
